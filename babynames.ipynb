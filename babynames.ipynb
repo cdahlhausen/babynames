{
 "metadata": {
  "name": "",
  "signature": "sha256:ab63292774c5c7a9b217b56853e5f5993e3f5558010ade909b7c5bbc9ed8fa73"
 },
 "nbformat": 3,
 "nbformat_minor": 0,
 "worksheets": [
  {
   "cells": [
    {
     "cell_type": "code",
     "collapsed": false,
     "input": [
      "#I recently created a programming exercise and I think you might appreciate working through it. \n",
      "#I have created my own solution, so we can compare.\n",
      "#The United States Social Security Administration has made available data on the \n",
      "# frequency of baby names from 1880 through the present. \n",
      "# Download names.zip from ssa.gov (linked below) and unpack into your \n",
      "# working directory. \n",
      "# Create a Python callable which accepts \n",
      "# - the year, \n",
      "# - a number n\n",
      "# - optionally whether to include only male or female names; \n",
      "# this callable should \n",
      "# - return a list of the top n names in that year \n",
      "# - (filtered down to only male or female, if requested by the optional argument). \n",
      "# You are welcome to add additional functionality to your program, and use of library modules is permitted.\n",
      "#\n",
      "#http://www.ssa.gov/oact/babynames/limits.html\n",
      "\n",
      "\n",
      "import csv\n",
      "import argparse\n",
      "\n",
      "def print_results(results, n=10):\n",
      "    iterator = 0\n",
      "    for v in results[:n]:\n",
      "        iterator += 1\n",
      "        print ( iterator, v['Name'], v['Births'])\n",
      "    \n",
      "def find_names(year, n, sex=None):\n",
      "    with open('yob' + str(year) + '.txt', 'rb') as f:        \n",
      "        reader =  csv.DictReader(f, fieldnames = ['Name', 'Gender', 'Births'])\n",
      "        results = []\n",
      "        males = []\n",
      "        females = []\n",
      "\n",
      "        # Read the complete csv into a dict\n",
      "        for row in reader:\n",
      "            results.append(row)\n",
      "        \n",
      "        # Iterate through dict and sort by gender\n",
      "        for v in results:\n",
      "            if v['Gender'] == 'F':\n",
      "                females.append(v)\n",
      "            if v['Gender'] == 'M':\n",
      "                males.append(v)\n",
      "                \n",
      "      #  for k in males[:n]:\n",
      "      #      print k\n",
      "        \n",
      "        if sex == 'F':\n",
      "            print_results(females,n)\n",
      "        if sex == 'M':\n",
      "            print_results(males,n)\n",
      "        if sex == None:\n",
      "            print \"Male names:\\n\"\n",
      "            print_results(males, n)\n",
      "            print \"\\n\\n\"\n",
      "            print \"Female names:\\n\"\n",
      "            print_results(females, n)\n",
      "\n",
      "parser = argparse.ArgumentParser(description='Returns frequency of baby names.')\n",
      "parser.add_argument('year', metavar='year', type=int, action='store',\n",
      "                   help='year')\n",
      "parser.add_argument('--num', metavar='number of results', action='store', default=10,\n",
      "                   help='number of results')\n",
      "parser.add_argument('--sex', metavar='results by sex', action='store', default=None,\n",
      "                   nargs='?', help='Results by sex')\n",
      "\n",
      "args = parser.parse_args()\n",
      "find_names(args.year,args.num,args.sex)"
     ],
     "language": "python",
     "metadata": {},
     "outputs": [
      {
       "output_type": "stream",
       "stream": "stderr",
       "text": [
        "usage: -c [-h] [--num number of results] [--sex [results by sex]] year\n",
        "-c: error: argument year: invalid int value: '/Users/christian/.ipython/profile_default/security/kernel-72fe4af4-7fe8-4295-bcce-69758de4f0d3.json'\n"
       ]
      },
      {
       "ename": "SystemExit",
       "evalue": "2",
       "output_type": "pyerr",
       "traceback": [
        "An exception has occurred, use %tb to see the full traceback.\n",
        "\u001b[0;31mSystemExit\u001b[0m\u001b[0;31m:\u001b[0m 2\n"
       ]
      },
      {
       "output_type": "stream",
       "stream": "stderr",
       "text": [
        "To exit: use 'exit', 'quit', or Ctrl-D.\n"
       ]
      }
     ],
     "prompt_number": 61
    },
    {
     "cell_type": "raw",
     "metadata": {},
     "source": []
    },
    {
     "cell_type": "code",
     "collapsed": false,
     "input": [],
     "language": "python",
     "metadata": {},
     "outputs": [],
     "prompt_number": 40
    },
    {
     "cell_type": "code",
     "collapsed": false,
     "input": [],
     "language": "python",
     "metadata": {},
     "outputs": [],
     "prompt_number": 9
    },
    {
     "cell_type": "code",
     "collapsed": false,
     "input": [],
     "language": "python",
     "metadata": {},
     "outputs": [],
     "prompt_number": 9
    },
    {
     "cell_type": "code",
     "collapsed": false,
     "input": [],
     "language": "python",
     "metadata": {},
     "outputs": [],
     "prompt_number": 9
    },
    {
     "cell_type": "code",
     "collapsed": false,
     "input": [],
     "language": "python",
     "metadata": {},
     "outputs": []
    }
   ],
   "metadata": {}
  }
 ]
}